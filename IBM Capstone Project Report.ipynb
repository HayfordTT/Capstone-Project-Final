{
    "cells": [
        {
            "cell_type": "markdown",
            "metadata": {
                "collapsed": true
            },
            "source": "# A Suitable Neighbourhood To Open a Hotel and Restaurant In Cape Town, South Africa"
        },
        {
            "cell_type": "markdown",
            "metadata": {},
            "source": "**Hayford Tetteh** <br>\nCapstone Project The Battle of Neighborhoods (Week 1) <br>\nIBM Data Science Professional Certificate <br> "
        },
        {
            "cell_type": "markdown",
            "metadata": {},
            "source": "#### Introduction"
        },
        {
            "cell_type": "markdown",
            "metadata": {},
            "source": "South Africa, called by some people the 'Rainbow Nation', a title that captures its diversity and 11 official\nlanguages. South Africa is a country where creative expression flourishes and its cultural diversity \nare embodied in its arts and culture. The country boast of vass tourist and heritage sites including wonderful beaches and cities.\nTourism has been one of the high revenue generating industry for the country and so is any company that operate within this industry.\nWhether you visit the naturally beautiful city of Cape Town and the bottle-green hills of its wine valleys or head out on \nto any of the beautiful beaches, a holiday in Cape Town will tick all the right boxes.\n"
        },
        {
            "cell_type": "markdown",
            "metadata": {},
            "source": "### 1. Discussion of the business problem and the audience who would be interested in this project."
        },
        {
            "cell_type": "markdown",
            "metadata": {},
            "source": "#### The Suitable Neighbourhood To Open a Hotel and Restaurant in Cape Town.\n\nComing down to business problem, Narh Bleponi Tourism Company base in Ghana is expanding thier operations to South\nAfrica , Cape Town to be precise. The company want to identify the best Neighbourhood in this wonderful city,s highly populatd neighbourhood, \na suitable location to open a hotel and restaurant as this city is a famous tourist spot. \nThe company is aware there will be many competitors in terms of hotel and restauramt, But keeping them in \nmind, they  need to locate thier hotel in place where more people be attracted to, convinient and comfortable for a stay \nand enjoy a good meal. South Africa and Cape Town for that matter is an ethnic and cultural diverse city, so a blend of foreign and local flavour \nof retaurant recipes with Italian, American, typical African, Asian and indian foods must be available to grab their taste.\n\nThe challenge is to find a suitable location in this city to open a new hotel and restaurant \nto attract all local and foreign people in the centre of all famous venues.\n"
        },
        {
            "cell_type": "markdown",
            "metadata": {},
            "source": "#### 2. A description of the data and how it will be used to solve the problem. "
        },
        {
            "cell_type": "code",
            "execution_count": null,
            "metadata": {},
            "outputs": [],
            "source": "#### What data will be used?\nWe will be completely working on Foursquare data from all the neighbourhood in these city to explore and try to locate our new hotel where more venues like \nchurch, temples, beach, museums, memorials other venues excluding hotels and and restaurants that are present nearby.\n\nHow will we be solving using this data?\n\nThe data set has columns such as Name of venues, Categories of venues, Longitude and Latitude of the venues, \nNeighbourhood, Id, Likes and Distance from a major central points. We will be looking for midpoint area of venues to \nlocate our new hotel. Before that our major focus will be on all venues present in and around the core place of Cape \nTown. The dataframe has a column postalCode with  lots of NaN, thus missing values, but each postalCode represent a neighbourhood\nso it will be dropped.\n\nJust a heads up on how many hotels are distributed now around Cape Town, we will perform \nsome EDA on hotels & \nrestaurants present in the tourist spot. On furthur notebook we will use Foursquare data to determine other venues as well."
        },
        {
            "cell_type": "code",
            "execution_count": null,
            "metadata": {},
            "outputs": [],
            "source": ""
        }
    ],
    "metadata": {
        "kernelspec": {
            "display_name": "Python 3.6",
            "language": "python",
            "name": "python3"
        },
        "language_info": {
            "codemirror_mode": {
                "name": "ipython",
                "version": 3
            },
            "file_extension": ".py",
            "mimetype": "text/x-python",
            "name": "python",
            "nbconvert_exporter": "python",
            "pygments_lexer": "ipython3",
            "version": "3.6.9"
        }
    },
    "nbformat": 4,
    "nbformat_minor": 1
}